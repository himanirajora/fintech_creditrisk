{
 "cells": [
  {
   "cell_type": "code",
   "execution_count": 1,
   "metadata": {
    "collapsed": false
   },
   "outputs": [
    {
     "data": {
      "text/html": [
       "<script>\n",
       "code_show=true; \n",
       "function code_toggle() {\n",
       " if (code_show){\n",
       " $('div.input').hide();\n",
       " } else {\n",
       " $('div.input').show();\n",
       " }\n",
       " code_show = !code_show\n",
       "} \n",
       "$( document ).ready(code_toggle);\n",
       "</script>\n",
       "<form action=\"javascript:code_toggle()\"><input type=\"submit\" value=\"Click here to toggle on/off the raw code.\"></form>"
      ],
      "text/plain": [
       "<IPython.core.display.HTML object>"
      ]
     },
     "execution_count": 1,
     "metadata": {},
     "output_type": "execute_result"
    }
   ],
   "source": [
    "from IPython.display import HTML\n",
    "\n",
    "HTML('''<script>\n",
    "code_show=true; \n",
    "function code_toggle() {\n",
    " if (code_show){\n",
    " $('div.input').hide();\n",
    " } else {\n",
    " $('div.input').show();\n",
    " }\n",
    " code_show = !code_show\n",
    "} \n",
    "$( document ).ready(code_toggle);\n",
    "</script>\n",
    "<form action=\"javascript:code_toggle()\"><input type=\"submit\" value=\"Click here to toggle on/off the raw code.\"></form>''')"
   ]
  },
  {
   "cell_type": "markdown",
   "metadata": {},
   "source": [
    "### Introduction\n",
    "Overall aim is to determine if we can estimate the income of a user, using the income of the people with the same employer, thereby increasing the number of users we could be serving. For the purposes of analysis, the employers having > 10 of our users are considered."
   ]
  },
  {
   "cell_type": "code",
   "execution_count": 1,
   "metadata": {
    "collapsed": true
   },
   "outputs": [],
   "source": [
    "import django\n",
    "import os\n",
    "import sys\n",
    "from uuid import UUID\n",
    "\n",
    "sys.path.append(\"<path to Django folder>\")\n",
    "os.environ.setdefault(\n",
    "    \"DJANGO_SETTINGS_MODULE\", \"config.settings.base\")\n",
    "django.setup()\n",
    "\n",
    "import pandas as pd\n",
    "import numpy as np\n",
    "from datetime import datetime\n",
    "from dateutil.relativedelta import relativedelta\n",
    "import itertools"
   ]
  },
  {
   "cell_type": "code",
   "execution_count": 2,
   "metadata": {
    "collapsed": false
   },
   "outputs": [],
   "source": [
    "import scipy as sp\n",
    "import scipy.stats\n",
    "from scipy.stats.stats import pearsonr"
   ]
  },
  {
   "cell_type": "code",
   "execution_count": 3,
   "metadata": {
    "collapsed": false
   },
   "outputs": [],
   "source": [
    "%matplotlib inline\n",
    "from matplotlib import pyplot as plt\n",
    "import seaborn as sns"
   ]
  },
  {
   "cell_type": "code",
   "execution_count": 4,
   "metadata": {
    "collapsed": true
   },
   "outputs": [],
   "source": [
    "import warnings\n",
    "warnings.filterwarnings('ignore')"
   ]
  },
  {
   "cell_type": "code",
   "execution_count": 5,
   "metadata": {
    "collapsed": true
   },
   "outputs": [],
   "source": [
    "from utils.models import BoostUser, BoostLoan, BoostEmployer\n",
    "from nirnay.models import CreditAssessment"
   ]
  },
  {
   "cell_type": "markdown",
   "metadata": {},
   "source": [
    "### Notes\n",
    "Of the users who applied for a loan for the top employers, roughly 30% of the users have an estimate. We can use the estimates of these users to make an approximation of the the remaining users salary."
   ]
  },
  {
   "cell_type": "markdown",
   "metadata": {
    "collapsed": true
   },
   "source": [
    "#### Notes (from previous):\n",
    "1. About 118 firms employ more that 10 of the users who had their credit assessed in 2017. Athough this number includes potential duplicates.\n",
    "2. These firms employ about 3300 users out of a potential 33K assessments. Out of these 3300, only 600 have a salary estimate."
   ]
  },
  {
   "cell_type": "code",
   "execution_count": 49,
   "metadata": {
    "collapsed": false
   },
   "outputs": [
    {
     "name": "stdout",
     "output_type": "stream",
     "text": [
      "Employers with more than 20 employees: 55\n",
      "Employees under them: 2376\n",
      "Employees with user estimate: 498.0\n"
     ]
    }
   ],
   "source": [
    "print(\"Employers with more than 20 employees:\", top_employers[top_employers['total_users']>=20].shape[0])\n",
    "print(\"Employees under them:\", top_employers[top_employers['total_users']>=20].total_users.sum())\n",
    "print(\"Employees with user estimate:\", top_employers[top_employers['total_users']>=20].users_with_estimate.sum())"
   ]
  },
  {
   "cell_type": "markdown",
   "metadata": {},
   "source": [
    "<h3 align=\"center\">Income Estimate</h3>"
   ]
  },
  {
   "cell_type": "code",
   "execution_count": 6,
   "metadata": {
    "collapsed": false,
    "scrolled": true
   },
   "outputs": [
    {
     "data": {
      "text/plain": [
       "1.3682012432012431"
      ]
     },
     "execution_count": 6,
     "metadata": {},
     "output_type": "execute_result"
    }
   ],
   "source": [
    "42261/30888"
   ]
  },
  {
   "cell_type": "code",
   "execution_count": 7,
   "metadata": {
    "collapsed": false
   },
   "outputs": [
    {
     "data": {
      "text/plain": [
       "8.670391061452515"
      ]
     },
     "execution_count": 7,
     "metadata": {},
     "output_type": "execute_result"
    }
   ],
   "source": [
    "7760/895"
   ]
  },
  {
   "cell_type": "code",
   "execution_count": 8,
   "metadata": {
    "collapsed": false
   },
   "outputs": [
    {
     "data": {
      "text/plain": [
       "1.1503067484662577"
      ]
     },
     "execution_count": 8,
     "metadata": {},
     "output_type": "execute_result"
    }
   ],
   "source": [
    "34500/29992"
   ]
  },
  {
   "cell_type": "markdown",
   "metadata": {},
   "source": [
    "#### Notes:\n",
    "1. From 1st Jan to 30th March 2017, there are 42,261 users who entered their employer and there are 30,888 distinct employers spread amongst them. That's an average of 1.36 users per employer. \n",
    "2. Of these users, if we consider only companies present in \"boostEmployers\", there are 7760 users working with 895 employers. An average of 8.67 users per employer.\n",
    "3. If we exclude the companies present in \"boostEmployer\", there are 34500 users working with 29992 employers at an average of 1.15 users per employer.\n",
    "\n",
    "Queries:\n",
    "1. select count(*), count(distinct employer) from \"boostUsers\" where \"createdAt\"::date >= '2017-01-01' and employer is not null and lower(employer) not in ('uber', 'ola', 'paysense', 'other', 'others', 'self', 'self employed');\n",
    "\n",
    "2. select count(*), count(distinct employer) from \"boostUsers\" where \"createdAt\"::date >= '2017-01-01' and employer is not null and lower(employer) not in ('uber', 'ola', 'paysense', 'other', 'others', 'self', 'self employed') and lower(employer) in (select lower(name) from \"boostEmployers\");\n",
    "\n",
    "3. select count(*), count(distinct employer) from \"boostUsers\" where \"createdAt\"::date >= '2017-01-01' and employer is not null and lower(employer) not in ('uber', 'ola', 'paysense', 'other', 'others', 'self', 'self employed') and lower(employer) not in (select lower(name) from \"boostEmployers\");"
   ]
  },
  {
   "cell_type": "markdown",
   "metadata": {},
   "source": [
    "Since majority of the coworkers come from the employers available in the boostEmployer, only those employers are being considered for further analysis"
   ]
  },
  {
   "cell_type": "markdown",
   "metadata": {},
   "source": [
    "<h3 align=\"center\">Deviations within each of the Employers</h3>"
   ]
  },
  {
   "cell_type": "markdown",
   "metadata": {},
   "source": [
    "Let's check how the incomes of the users vary within each of the employers. The main objective is to find out if we can find any cutoff variance below which we can say that the distribution has a central tendency and low spread."
   ]
  },
  {
   "cell_type": "code",
   "execution_count": 9,
   "metadata": {
    "collapsed": true
   },
   "outputs": [],
   "source": [
    "user_assessments = pd.DataFrame(list(CreditAssessment.objects.filter(\n",
    "            is_approved_flexi=True, created_at__gte=datetime(2017,1,1)).order_by(\n",
    "            'master_user_id','-created_at').distinct('master_user_id').values(\n",
    "            'master_user_id','stated_income','salary_estimate', 'cibil_score','bank_sms_count', \n",
    "            'perfios_salary_estimate', 'salary_in_payslip', 'age')))"
   ]
  },
  {
   "cell_type": "code",
   "execution_count": 10,
   "metadata": {
    "collapsed": true
   },
   "outputs": [],
   "source": [
    "users = pd.DataFrame(list(BoostUser.objects.filter(\n",
    "            master_user_id__in=user_assessments.master_user_id).values('master_user_id','employer', 'salary_in_salary_payslip')))"
   ]
  },
  {
   "cell_type": "code",
   "execution_count": 11,
   "metadata": {
    "collapsed": false
   },
   "outputs": [],
   "source": [
    "users['salary_in_salary_payslip'] /= 100"
   ]
  },
  {
   "cell_type": "code",
   "execution_count": 12,
   "metadata": {
    "collapsed": false
   },
   "outputs": [
    {
     "data": {
      "text/plain": [
       "((1479, 3), (23016, 3))"
      ]
     },
     "execution_count": 12,
     "metadata": {},
     "output_type": "execute_result"
    }
   ],
   "source": [
    "users[users.salary_in_salary_payslip.notnull()].shape, users.shape"
   ]
  },
  {
   "cell_type": "code",
   "execution_count": 13,
   "metadata": {
    "collapsed": false
   },
   "outputs": [],
   "source": [
    "boost_employers = list(BoostEmployer.objects.values_list('name', flat=True))"
   ]
  },
  {
   "cell_type": "code",
   "execution_count": 14,
   "metadata": {
    "collapsed": false
   },
   "outputs": [
    {
     "data": {
      "text/plain": [
       "((3720, 8), (309, 8))"
      ]
     },
     "execution_count": 14,
     "metadata": {},
     "output_type": "execute_result"
    }
   ],
   "source": [
    "user_assessments[user_assessments.salary_estimate.notnull()].shape, user_assessments[user_assessments['salary_in_payslip'].notnull()].shape"
   ]
  },
  {
   "cell_type": "code",
   "execution_count": 15,
   "metadata": {
    "collapsed": false
   },
   "outputs": [],
   "source": [
    "user_assessments = user_assessments.merge(users, on='master_user_id', how='left')"
   ]
  },
  {
   "cell_type": "code",
   "execution_count": 16,
   "metadata": {
    "collapsed": false
   },
   "outputs": [],
   "source": [
    "user_assessments.drop(['salary_in_payslip'], axis=1, inplace=True)"
   ]
  },
  {
   "cell_type": "code",
   "execution_count": 17,
   "metadata": {
    "collapsed": false
   },
   "outputs": [],
   "source": [
    "user_employers = user_assessments[user_assessments['employer'].isin(boost_employers)]"
   ]
  },
  {
   "cell_type": "code",
   "execution_count": 18,
   "metadata": {
    "collapsed": false
   },
   "outputs": [],
   "source": [
    "user_employers = user_employers[(user_employers['employer']!='PAYSENSE') & \n",
    "                                (user_employers['employer']!='UBER') & \n",
    "                                (user_employers['employer']!='OLA') & \n",
    "                                (~user_employers['employer'].str.contains('OTHER')) & \n",
    "                                (~user_employers['employer'].str.contains('SELF'))]"
   ]
  },
  {
   "cell_type": "code",
   "execution_count": 19,
   "metadata": {
    "collapsed": false
   },
   "outputs": [],
   "source": [
    "user_employers['actual_income'] = user_employers.apply(lambda x: x['salary_in_salary_payslip'] if \n",
    "                                                       pd.notnull(x['salary_in_salary_payslip']) \n",
    "                                                       else x['salary_estimate'], axis=1)"
   ]
  },
  {
   "cell_type": "code",
   "execution_count": 20,
   "metadata": {
    "collapsed": false
   },
   "outputs": [
    {
     "data": {
      "text/plain": [
       "(816, 10)"
      ]
     },
     "execution_count": 20,
     "metadata": {},
     "output_type": "execute_result"
    }
   ],
   "source": [
    "user_employers[user_employers.actual_income.notnull()].shape"
   ]
  },
  {
   "cell_type": "code",
   "execution_count": 21,
   "metadata": {
    "collapsed": false
   },
   "outputs": [],
   "source": [
    "top_employers = user_employers.employer.value_counts()[:500].index.values\n",
    "top_employers = pd.DataFrame(top_employers, columns=['employer'])"
   ]
  },
  {
   "cell_type": "markdown",
   "metadata": {},
   "source": [
    "Let's consider the top 500 employers of 2017 in BoostEmployer"
   ]
  },
  {
   "cell_type": "code",
   "execution_count": 22,
   "metadata": {
    "collapsed": true
   },
   "outputs": [],
   "source": [
    "def median_absolute_deviation(arr):\n",
    "    med = np.median(arr)\n",
    "    return np.median(np.abs(arr - med))"
   ]
  },
  {
   "cell_type": "code",
   "execution_count": 23,
   "metadata": {
    "collapsed": true
   },
   "outputs": [],
   "source": [
    "def get_user_employer(master_user_id):\n",
    "    employer = BoostUser.objects.filter(master_user_id=master_user_id).values_list('employer',flat=True).get()\n",
    "    return employer"
   ]
  },
  {
   "cell_type": "code",
   "execution_count": 24,
   "metadata": {
    "collapsed": true
   },
   "outputs": [],
   "source": [
    "def get_coworkers(employer):\n",
    "    try:\n",
    "        BoostEmployer.objects.filter(name__iexact=employer).get()\n",
    "        co_workers = list(BoostUser.objects.filter(employer__iexact=employer).values_list(\n",
    "                'master_user_id', flat=True))\n",
    "        return list(co_workers)\n",
    "    except BoostEmployer.DoesNotExist:\n",
    "        return []"
   ]
  },
  {
   "cell_type": "code",
   "execution_count": 25,
   "metadata": {
    "collapsed": true
   },
   "outputs": [],
   "source": [
    "def get_user_salary_estimates(master_user_ids):\n",
    "    salary_estimates = pd.DataFrame(list(CreditAssessment.objects.filter(master_user_id__in=master_user_ids).order_by(\n",
    "        'master_user_id', '-created_at').distinct('master_user_id').values('master_user_id','salary_estimate', 'age')))\n",
    "    salary_in_payslip = pd.DataFrame(list(BoostUser.objects.filter(\n",
    "        master_user_id__in=master_user_ids).values('master_user_id','salary_in_salary_payslip')))\n",
    "    salary_in_payslip['salary_in_salary_payslip'] /= 100\n",
    "    actual_incomes = pd.merge(salary_estimates, salary_in_payslip, on='master_user_id', how='outer')\n",
    "    actual_incomes['actual_income'] = actual_incomes.apply(lambda x: x['salary_in_salary_payslip'] if \n",
    "                                                       pd.notnull(x['salary_in_salary_payslip']) \n",
    "                                                       else x['salary_estimate'], axis=1)\n",
    "    actual_incomes = actual_incomes[actual_incomes['actual_income'].notnull()]\n",
    "    employee_ages = actual_incomes['age'].tolist()\n",
    "    actual_incomes = actual_incomes['actual_income'].tolist()\n",
    "    if len(actual_incomes)>=5:\n",
    "        return actual_incomes, employee_ages\n",
    "    else:\n",
    "        return [], []"
   ]
  },
  {
   "cell_type": "code",
   "execution_count": 26,
   "metadata": {
    "collapsed": true
   },
   "outputs": [],
   "source": [
    "def get_employee_salary(employer):\n",
    "    employees = get_coworkers(employer)\n",
    "    employee_income_age =  get_user_salary_estimates(employees)\n",
    "    incomes = employee_income_age[0]\n",
    "    return incomes"
   ]
  },
  {
   "cell_type": "code",
   "execution_count": 27,
   "metadata": {
    "collapsed": true
   },
   "outputs": [],
   "source": [
    "def get_employee_age(employer):\n",
    "    employees = get_coworkers(employer)\n",
    "    employee_income_age =  get_user_salary_estimates(employees)\n",
    "    ages = employee_income_age[1]\n",
    "    return ages"
   ]
  },
  {
   "cell_type": "code",
   "execution_count": 28,
   "metadata": {
    "collapsed": false
   },
   "outputs": [],
   "source": [
    "top_employers['incomes'] = top_employers['employer'].apply(get_employee_salary)\n",
    "top_employers['ages'] = top_employers['employer'].apply(get_employee_age)"
   ]
  },
  {
   "cell_type": "code",
   "execution_count": 29,
   "metadata": {
    "collapsed": false
   },
   "outputs": [],
   "source": [
    "top_employers['number_of_income_cases'] = top_employers['incomes'].apply(lambda x: len(x))"
   ]
  },
  {
   "cell_type": "code",
   "execution_count": 30,
   "metadata": {
    "collapsed": false
   },
   "outputs": [],
   "source": [
    "top_employers['median_income'] = top_employers['incomes'].apply(lambda x: np.nan_to_num(np.median(x)))\n",
    "top_employers['standard_deviation'] = top_employers['incomes'].apply(lambda x: int(np.nan_to_num(np.std(x))))\n",
    "top_employers['median_absolute_deviation'] = top_employers['incomes'].apply(median_absolute_deviation)"
   ]
  },
  {
   "cell_type": "code",
   "execution_count": 31,
   "metadata": {
    "collapsed": false,
    "scrolled": false
   },
   "outputs": [],
   "source": [
    "top_employers['deviation_factor'] = top_employers['median_absolute_deviation']/top_employers['median_income']"
   ]
  },
  {
   "cell_type": "markdown",
   "metadata": {},
   "source": [
    "Calculating the median absolute deviation of the estimated incomes for each employer. The \"Deviation Factor\" is another measure which normalizes the median deviation with respect to the median income. \n",
    "\n",
    "Deviation Factor = median_absolute_deviation / median_income"
   ]
  },
  {
   "cell_type": "code",
   "execution_count": 32,
   "metadata": {
    "collapsed": false,
    "scrolled": false
   },
   "outputs": [
    {
     "data": {
      "text/html": [
       "<div>\n",
       "<table border=\"1\" class=\"dataframe\">\n",
       "  <thead>\n",
       "    <tr style=\"text-align: right;\">\n",
       "      <th></th>\n",
       "      <th>employer</th>\n",
       "      <th>incomes</th>\n",
       "      <th>ages</th>\n",
       "      <th>number_of_income_cases</th>\n",
       "      <th>median_income</th>\n",
       "      <th>standard_deviation</th>\n",
       "      <th>median_absolute_deviation</th>\n",
       "      <th>deviation_factor</th>\n",
       "    </tr>\n",
       "  </thead>\n",
       "  <tbody>\n",
       "    <tr>\n",
       "      <th>0</th>\n",
       "      <td>TATA CONSULTANCY SERVICES LIMITED</td>\n",
       "      <td>[32741.0, 35000.0, 45590.0, 120000.0, 25800.0,...</td>\n",
       "      <td>[28, 28, 33, 51, 26, 24, 29, 28, 31, 26, 30, 3...</td>\n",
       "      <td>161</td>\n",
       "      <td>31109.0</td>\n",
       "      <td>14914</td>\n",
       "      <td>6827.0</td>\n",
       "      <td>0.219454</td>\n",
       "    </tr>\n",
       "    <tr>\n",
       "      <th>1</th>\n",
       "      <td>TEAM LEASE</td>\n",
       "      <td>[27513.0, 12610.0, 22190.0, 17440.0, 12441.0, ...</td>\n",
       "      <td>[29, 27, 28, 26, 27, 29, 34, 41, 37, 23, 30, 2...</td>\n",
       "      <td>76</td>\n",
       "      <td>19096.5</td>\n",
       "      <td>10766</td>\n",
       "      <td>2975.0</td>\n",
       "      <td>0.155788</td>\n",
       "    </tr>\n",
       "  </tbody>\n",
       "</table>\n",
       "</div>"
      ],
      "text/plain": [
       "                            employer  \\\n",
       "0  TATA CONSULTANCY SERVICES LIMITED   \n",
       "1                         TEAM LEASE   \n",
       "\n",
       "                                             incomes  \\\n",
       "0  [32741.0, 35000.0, 45590.0, 120000.0, 25800.0,...   \n",
       "1  [27513.0, 12610.0, 22190.0, 17440.0, 12441.0, ...   \n",
       "\n",
       "                                                ages  number_of_income_cases  \\\n",
       "0  [28, 28, 33, 51, 26, 24, 29, 28, 31, 26, 30, 3...                     161   \n",
       "1  [29, 27, 28, 26, 27, 29, 34, 41, 37, 23, 30, 2...                      76   \n",
       "\n",
       "   median_income  standard_deviation  median_absolute_deviation  \\\n",
       "0        31109.0               14914                     6827.0   \n",
       "1        19096.5               10766                     2975.0   \n",
       "\n",
       "   deviation_factor  \n",
       "0          0.219454  \n",
       "1          0.155788  "
      ]
     },
     "execution_count": 32,
     "metadata": {},
     "output_type": "execute_result"
    }
   ],
   "source": [
    "top_employers.head(2)"
   ]
  },
  {
   "cell_type": "markdown",
   "metadata": {},
   "source": [
    "#### Plotting this \"Deviation Factor\" across the top 500 employers:"
   ]
  },
  {
   "cell_type": "code",
   "execution_count": 33,
   "metadata": {
    "collapsed": false,
    "scrolled": false
   },
   "outputs": [
    {
     "data": {
      "text/plain": [
       "<matplotlib.axes._subplots.AxesSubplot at 0x10b50dcc0>"
      ]
     },
     "execution_count": 33,
     "metadata": {},
     "output_type": "execute_result"
    },
    {
     "data": {
      "image/png": "[encoded data removed]",
      "text/plain": [
       "<matplotlib.figure.Figure at 0x10ac6e4a8>"
      ]
     },
     "metadata": {},
     "output_type": "display_data"
    }
   ],
   "source": [
    "top_employers[top_employers['deviation_factor']>0]['deviation_factor'].plot(kind='kde')"
   ]
  },
  {
   "cell_type": "code",
   "execution_count": 34,
   "metadata": {
    "collapsed": false
   },
   "outputs": [
    {
     "data": {
      "text/plain": [
       "<matplotlib.axes._subplots.AxesSubplot at 0x10acab588>"
      ]
     },
     "execution_count": 34,
     "metadata": {},
     "output_type": "execute_result"
    },
    {
     "data": {
      "image/png": "[encoded data removed]",
      "text/plain": [
       "<matplotlib.figure.Figure at 0x10acb9128>"
      ]
     },
     "metadata": {},
     "output_type": "display_data"
    }
   ],
   "source": [
    "top_employers['deviation_factor'].plot(kind='hist', bins=10)"
   ]
  },
  {
   "cell_type": "markdown",
   "metadata": {},
   "source": [
    "From the above distribution, it can be observed that majority of the employers have a deviation factor of 0.1 to 0.4 (peaking at ~0.2).\n",
    "<br>This can be interpreted as : For majority of the employers, half of the employees' salaries lie within a distance of 40% from the median value = median * (1 +- 0.4)"
   ]
  },
  {
   "cell_type": "markdown",
   "metadata": {},
   "source": [
    "We can use this range as a limiting factor on the predictability of incomes for an individual employer."
   ]
  },
  {
   "cell_type": "markdown",
   "metadata": {},
   "source": [
    "#### Understanding the relation of the incomes with age"
   ]
  },
  {
   "cell_type": "markdown",
   "metadata": {},
   "source": [
    "Let's calculate the correlation coeff between user's incomes and ages for every employer"
   ]
  },
  {
   "cell_type": "code",
   "execution_count": 35,
   "metadata": {
    "collapsed": false
   },
   "outputs": [],
   "source": [
    "top_employers['income_age_corr'] = top_employers.apply(lambda x: pearsonr(x['incomes'], x['ages'])[0], axis=1)\n",
    "top_employers['p-value'] = top_employers.apply(lambda x: np.round(pearsonr(x['incomes'], x['ages'])[1], 4), axis=1)"
   ]
  },
  {
   "cell_type": "markdown",
   "metadata": {},
   "source": [
    "The incomes for an employer are only being returned if there are atleast 5 values to return."
   ]
  },
  {
   "cell_type": "code",
   "execution_count": 36,
   "metadata": {
    "collapsed": false,
    "scrolled": false
   },
   "outputs": [
    {
     "data": {
      "text/html": [
       "<div>\n",
       "<table border=\"1\" class=\"dataframe\">\n",
       "  <thead>\n",
       "    <tr style=\"text-align: right;\">\n",
       "      <th></th>\n",
       "      <th>employer</th>\n",
       "      <th>incomes</th>\n",
       "      <th>ages</th>\n",
       "      <th>number_of_income_cases</th>\n",
       "      <th>median_income</th>\n",
       "      <th>standard_deviation</th>\n",
       "      <th>median_absolute_deviation</th>\n",
       "      <th>deviation_factor</th>\n",
       "      <th>income_age_corr</th>\n",
       "      <th>p-value</th>\n",
       "    </tr>\n",
       "  </thead>\n",
       "  <tbody>\n",
       "    <tr>\n",
       "      <th>0</th>\n",
       "      <td>TATA CONSULTANCY SERVICES LIMITED</td>\n",
       "      <td>[32741.0, 35000.0, 45590.0, 120000.0, 25800.0,...</td>\n",
       "      <td>[28, 28, 33, 51, 26, 24, 29, 28, 31, 26, 30, 3...</td>\n",
       "      <td>161</td>\n",
       "      <td>31109.0</td>\n",
       "      <td>14914</td>\n",
       "      <td>6827.0</td>\n",
       "      <td>0.219454</td>\n",
       "      <td>0.613343</td>\n",
       "      <td>0.0000</td>\n",
       "    </tr>\n",
       "    <tr>\n",
       "      <th>1</th>\n",
       "      <td>TEAM LEASE</td>\n",
       "      <td>[27513.0, 12610.0, 22190.0, 17440.0, 12441.0, ...</td>\n",
       "      <td>[29, 27, 28, 26, 27, 29, 34, 41, 37, 23, 30, 2...</td>\n",
       "      <td>76</td>\n",
       "      <td>19096.5</td>\n",
       "      <td>10766</td>\n",
       "      <td>2975.0</td>\n",
       "      <td>0.155788</td>\n",
       "      <td>0.166639</td>\n",
       "      <td>0.1502</td>\n",
       "    </tr>\n",
       "  </tbody>\n",
       "</table>\n",
       "</div>"
      ],
      "text/plain": [
       "                            employer  \\\n",
       "0  TATA CONSULTANCY SERVICES LIMITED   \n",
       "1                         TEAM LEASE   \n",
       "\n",
       "                                             incomes  \\\n",
       "0  [32741.0, 35000.0, 45590.0, 120000.0, 25800.0,...   \n",
       "1  [27513.0, 12610.0, 22190.0, 17440.0, 12441.0, ...   \n",
       "\n",
       "                                                ages  number_of_income_cases  \\\n",
       "0  [28, 28, 33, 51, 26, 24, 29, 28, 31, 26, 30, 3...                     161   \n",
       "1  [29, 27, 28, 26, 27, 29, 34, 41, 37, 23, 30, 2...                      76   \n",
       "\n",
       "   median_income  standard_deviation  median_absolute_deviation  \\\n",
       "0        31109.0               14914                     6827.0   \n",
       "1        19096.5               10766                     2975.0   \n",
       "\n",
       "   deviation_factor  income_age_corr  p-value  \n",
       "0          0.219454         0.613343   0.0000  \n",
       "1          0.155788         0.166639   0.1502  "
      ]
     },
     "execution_count": 36,
     "metadata": {},
     "output_type": "execute_result"
    }
   ],
   "source": [
    "top_employers.head(2)"
   ]
  },
  {
   "cell_type": "code",
   "execution_count": 37,
   "metadata": {
    "collapsed": false
   },
   "outputs": [
    {
     "data": {
      "text/plain": [
       "<matplotlib.axes._subplots.AxesSubplot at 0x10af1a208>"
      ]
     },
     "execution_count": 37,
     "metadata": {},
     "output_type": "execute_result"
    },
    {
     "data": {
      "image/png": "[encoded data removed]",
      "text/plain": [
       "<matplotlib.figure.Figure at 0x10af61e48>"
      ]
     },
     "metadata": {},
     "output_type": "display_data"
    }
   ],
   "source": [
    "top_employers['income_age_corr'].plot(kind='kde')"
   ]
  },
  {
   "cell_type": "code",
   "execution_count": 38,
   "metadata": {
    "collapsed": false
   },
   "outputs": [
    {
     "data": {
      "text/plain": [
       "<matplotlib.axes._subplots.AxesSubplot at 0x10af85080>"
      ]
     },
     "execution_count": 38,
     "metadata": {},
     "output_type": "execute_result"
    },
    {
     "data": {
      "image/png": "[encoded data removed]",
      "text/plain": [
       "<matplotlib.figure.Figure at 0x10ab29a90>"
      ]
     },
     "metadata": {},
     "output_type": "display_data"
    }
   ],
   "source": [
    "top_employers['income_age_corr'].plot(kind='hist', bins=7)"
   ]
  },
  {
   "cell_type": "markdown",
   "metadata": {},
   "source": [
    "Plotting the density and distribution plots of the correlation between incomes and ages across employers, we can observe that the correlation is positive and approximately > 0.5 for a majority of the employers."
   ]
  },
  {
   "cell_type": "markdown",
   "metadata": {},
   "source": [
    "To get the thresholds, we can look at the correlation between incomes and ages of all the users across the employers"
   ]
  },
  {
   "cell_type": "code",
   "execution_count": 39,
   "metadata": {
    "collapsed": false
   },
   "outputs": [],
   "source": [
    "overall_incomes = list(itertools.chain.from_iterable(top_employers.incomes.tolist()))\n",
    "overall_ages = list(itertools.chain.from_iterable(top_employers.ages.tolist()))"
   ]
  },
  {
   "cell_type": "code",
   "execution_count": 40,
   "metadata": {
    "collapsed": false
   },
   "outputs": [
    {
     "data": {
      "text/plain": [
       "(2643, 2643)"
      ]
     },
     "execution_count": 40,
     "metadata": {},
     "output_type": "execute_result"
    }
   ],
   "source": [
    "len(overall_incomes), len(overall_ages)"
   ]
  },
  {
   "cell_type": "code",
   "execution_count": 41,
   "metadata": {
    "collapsed": true
   },
   "outputs": [],
   "source": [
    "income_age_correlation = pearsonr(overall_incomes, overall_ages)[0]\n",
    "income_age_significance = pearsonr(overall_incomes, overall_ages)[1]"
   ]
  },
  {
   "cell_type": "code",
   "execution_count": 42,
   "metadata": {
    "collapsed": false
   },
   "outputs": [
    {
     "data": {
      "text/plain": [
       "(0.33269021880986155, 2.4948121232701303e-69)"
      ]
     },
     "execution_count": 42,
     "metadata": {},
     "output_type": "execute_result"
    }
   ],
   "source": [
    "income_age_correlation, income_age_significance"
   ]
  },
  {
   "cell_type": "markdown",
   "metadata": {},
   "source": [
    "The above figures show that the correlation coefficient between overall incomes and overall ages is ~0.34. The p-value is < 0.05 which could say that there is a significant relationship between age and income (and a positive relation)"
   ]
  },
  {
   "cell_type": "markdown",
   "metadata": {},
   "source": [
    "We can use the correlation of overall distributions (0.34) as a cutoff. \n",
    "<br>\n",
    "#### The final approach could possibly be:\n",
    "1. For a set of available estimates from an employer, if there are too many incomes available, we can try and use the age of the user to identify the similar set of coworkers.\n",
    "2. This subsetting would be done only for the employers for which there is a positive correlation between the age and income, and if the p-value of such an estimate is < 0.05 (statistically significant)\n",
    "3. Once we identify the similar users (wherever applicable), we return the median income for the employer where the deviation factor (calculated as described previously on the entire data of the employer) is < 0.4"
   ]
  },
  {
   "cell_type": "markdown",
   "metadata": {},
   "source": [
    "Now to identify the similar users for each user based on the age, we can divide the users into bins of age groups. The below figure represents a histogram of the age of all the users (of 2017) and who are employed by one of the boostEmployer."
   ]
  },
  {
   "cell_type": "code",
   "execution_count": 43,
   "metadata": {
    "collapsed": false
   },
   "outputs": [
    {
     "data": {
      "text/plain": [
       "<matplotlib.axes._subplots.AxesSubplot at 0x10b74a8d0>"
      ]
     },
     "execution_count": 43,
     "metadata": {},
     "output_type": "execute_result"
    },
    {
     "data": {
      "image/png": "[encoded data removed]",
      "text/plain": [
       "<matplotlib.figure.Figure at 0x10b79ff28>"
      ]
     },
     "metadata": {},
     "output_type": "display_data"
    }
   ],
   "source": [
    "user_employers.age.plot(kind='hist')"
   ]
  },
  {
   "cell_type": "markdown",
   "metadata": {},
   "source": [
    "It can be observed that most of the users are in the age group of 20-35 years (inline with expectation). To segment these users, we can split the ages into groups of size 5 years. The bins would be basically be as follows:\n",
    "<br><br>\n",
    "[0, 20, 25, 30, 35, 100]"
   ]
  },
  {
   "cell_type": "code",
   "execution_count": 44,
   "metadata": {
    "collapsed": false
   },
   "outputs": [],
   "source": [
    "# bins = [0, 20, 25, 30, 35, 100]\n",
    "# np.digitize([0, 100], bins)"
   ]
  },
  {
   "cell_type": "code",
   "execution_count": 45,
   "metadata": {
    "collapsed": false,
    "scrolled": false
   },
   "outputs": [
    {
     "data": {
      "text/html": [
       "<div>\n",
       "<table border=\"1\" class=\"dataframe\">\n",
       "  <thead>\n",
       "    <tr style=\"text-align: right;\">\n",
       "      <th></th>\n",
       "      <th>employer</th>\n",
       "      <th>incomes</th>\n",
       "      <th>ages</th>\n",
       "      <th>number_of_income_cases</th>\n",
       "      <th>median_income</th>\n",
       "      <th>standard_deviation</th>\n",
       "      <th>median_absolute_deviation</th>\n",
       "      <th>deviation_factor</th>\n",
       "      <th>income_age_corr</th>\n",
       "      <th>p-value</th>\n",
       "    </tr>\n",
       "  </thead>\n",
       "  <tbody>\n",
       "    <tr>\n",
       "      <th>0</th>\n",
       "      <td>TATA CONSULTANCY SERVICES LIMITED</td>\n",
       "      <td>[32741.0, 35000.0, 45590.0, 120000.0, 25800.0,...</td>\n",
       "      <td>[28, 28, 33, 51, 26, 24, 29, 28, 31, 26, 30, 3...</td>\n",
       "      <td>161</td>\n",
       "      <td>31109.0</td>\n",
       "      <td>14914</td>\n",
       "      <td>6827.0</td>\n",
       "      <td>0.219454</td>\n",
       "      <td>0.613343</td>\n",
       "      <td>0.0000</td>\n",
       "    </tr>\n",
       "    <tr>\n",
       "      <th>1</th>\n",
       "      <td>TEAM LEASE</td>\n",
       "      <td>[27513.0, 12610.0, 22190.0, 17440.0, 12441.0, ...</td>\n",
       "      <td>[29, 27, 28, 26, 27, 29, 34, 41, 37, 23, 30, 2...</td>\n",
       "      <td>76</td>\n",
       "      <td>19096.5</td>\n",
       "      <td>10766</td>\n",
       "      <td>2975.0</td>\n",
       "      <td>0.155788</td>\n",
       "      <td>0.166639</td>\n",
       "      <td>0.1502</td>\n",
       "    </tr>\n",
       "    <tr>\n",
       "      <th>2</th>\n",
       "      <td>WIPRO LIMITED</td>\n",
       "      <td>[14613.0, 30991.0, 29970.0, 18355.0, 21440.0, ...</td>\n",
       "      <td>[25, 29, 25, 32, 28, 28, 23, 25, 32, 24, 29, 3...</td>\n",
       "      <td>128</td>\n",
       "      <td>21434.0</td>\n",
       "      <td>19701</td>\n",
       "      <td>6650.0</td>\n",
       "      <td>0.310255</td>\n",
       "      <td>0.464249</td>\n",
       "      <td>0.0000</td>\n",
       "    </tr>\n",
       "    <tr>\n",
       "      <th>3</th>\n",
       "      <td>3M INDIA LIMITED</td>\n",
       "      <td>[20000.0, 28000.0, 11750.0, 21897.0, 25000.0, ...</td>\n",
       "      <td>[25, 39, 29, 27, 21, 26, 27, 32, 42, 32, 36, 3...</td>\n",
       "      <td>15</td>\n",
       "      <td>21897.0</td>\n",
       "      <td>11660</td>\n",
       "      <td>3186.0</td>\n",
       "      <td>0.145499</td>\n",
       "      <td>0.324490</td>\n",
       "      <td>0.2380</td>\n",
       "    </tr>\n",
       "    <tr>\n",
       "      <th>4</th>\n",
       "      <td>RELIANCE JIO</td>\n",
       "      <td>[16413.0, 20246.0, 17036.0, 15297.0, 15904.0, ...</td>\n",
       "      <td>[23, 27, 30, 21, 29, 26, 34, 30, 25, 32, 34, 2...</td>\n",
       "      <td>45</td>\n",
       "      <td>17089.0</td>\n",
       "      <td>14900</td>\n",
       "      <td>2494.0</td>\n",
       "      <td>0.145942</td>\n",
       "      <td>0.098599</td>\n",
       "      <td>0.5193</td>\n",
       "    </tr>\n",
       "    <tr>\n",
       "      <th>5</th>\n",
       "      <td>BHARTI AIRTEL LIMITED</td>\n",
       "      <td>[15038.0, 15000.0, 84323.0, 15389.0, 19140.0, ...</td>\n",
       "      <td>[26, 27, 28, 24, 27, 28, 35, 27, 29, 24, 31, 3...</td>\n",
       "      <td>42</td>\n",
       "      <td>21230.5</td>\n",
       "      <td>16832</td>\n",
       "      <td>5480.5</td>\n",
       "      <td>0.258143</td>\n",
       "      <td>0.402840</td>\n",
       "      <td>0.0082</td>\n",
       "    </tr>\n",
       "    <tr>\n",
       "      <th>6</th>\n",
       "      <td>ICICI BANK LIMITED</td>\n",
       "      <td>[23764.0, 18524.0, 17227.0, 39196.0, 21495.0, ...</td>\n",
       "      <td>[30.0, 29.0, 24.0, 31.0, 29.0, 31.0, 26.0, 29....</td>\n",
       "      <td>87</td>\n",
       "      <td>24482.0</td>\n",
       "      <td>18015</td>\n",
       "      <td>9311.0</td>\n",
       "      <td>0.380320</td>\n",
       "      <td>0.375850</td>\n",
       "      <td>0.0003</td>\n",
       "    </tr>\n",
       "    <tr>\n",
       "      <th>7</th>\n",
       "      <td>GEBBS HEALTHCARE</td>\n",
       "      <td>[15297.0, 127400.0, 53719.0, 31060.0, 43390.0,...</td>\n",
       "      <td>[35, 40, 24, 30, 32, 25, 25, 26, 36, 26, 28, 2...</td>\n",
       "      <td>60</td>\n",
       "      <td>22917.0</td>\n",
       "      <td>18965</td>\n",
       "      <td>7576.5</td>\n",
       "      <td>0.330606</td>\n",
       "      <td>0.486987</td>\n",
       "      <td>0.0001</td>\n",
       "    </tr>\n",
       "    <tr>\n",
       "      <th>8</th>\n",
       "      <td>HDFC BANK LIMITED</td>\n",
       "      <td>[13963.0, 54145.0, 14700.0, 37609.0, 39500.0, ...</td>\n",
       "      <td>[23, 34, 21, 26, 27, 38, 26, 35, 26, 31, 26, 2...</td>\n",
       "      <td>63</td>\n",
       "      <td>24000.0</td>\n",
       "      <td>13995</td>\n",
       "      <td>8129.0</td>\n",
       "      <td>0.338708</td>\n",
       "      <td>0.466021</td>\n",
       "      <td>0.0001</td>\n",
       "    </tr>\n",
       "    <tr>\n",
       "      <th>9</th>\n",
       "      <td>IBM</td>\n",
       "      <td>[53636.0, 65874.0, 84800.0, 49867.0, 35200.0, ...</td>\n",
       "      <td>[33, 30, 27, 30, 27, 26, 37, 25, 33, 29, 38, 2...</td>\n",
       "      <td>71</td>\n",
       "      <td>33666.0</td>\n",
       "      <td>20393</td>\n",
       "      <td>13188.0</td>\n",
       "      <td>0.391731</td>\n",
       "      <td>0.510228</td>\n",
       "      <td>0.0000</td>\n",
       "    </tr>\n",
       "    <tr>\n",
       "      <th>10</th>\n",
       "      <td>TECH MAHINDRA</td>\n",
       "      <td>[33766.0, 36913.0, 30120.0, 28709.0, 31640.0, ...</td>\n",
       "      <td>[29, 34, 27, 25, 25, 29, 21, 29, 30, 28, 31, 3...</td>\n",
       "      <td>251</td>\n",
       "      <td>31114.0</td>\n",
       "      <td>9056</td>\n",
       "      <td>4289.0</td>\n",
       "      <td>0.137848</td>\n",
       "      <td>0.418762</td>\n",
       "      <td>0.0000</td>\n",
       "    </tr>\n",
       "    <tr>\n",
       "      <th>11</th>\n",
       "      <td>CONVERGYS</td>\n",
       "      <td>[25528.0, 32082.0, 24631.0, 40236.0, 27500.0, ...</td>\n",
       "      <td>[26, 42, 31, 27, 28, 24, 22, 26, 29, 28, 27, 2...</td>\n",
       "      <td>70</td>\n",
       "      <td>23785.5</td>\n",
       "      <td>10563</td>\n",
       "      <td>4188.0</td>\n",
       "      <td>0.176074</td>\n",
       "      <td>0.338364</td>\n",
       "      <td>0.0042</td>\n",
       "    </tr>\n",
       "    <tr>\n",
       "      <th>12</th>\n",
       "      <td>INDUSIND BANK LIMITED</td>\n",
       "      <td>[28000.0, 17500.0, 20039.0, 22262.0, 27568.0, ...</td>\n",
       "      <td>[26, 31, 26, 23, 27, 33, 26, 27, 41, 31, 23, 3...</td>\n",
       "      <td>42</td>\n",
       "      <td>21360.0</td>\n",
       "      <td>18813</td>\n",
       "      <td>5160.0</td>\n",
       "      <td>0.241573</td>\n",
       "      <td>0.529338</td>\n",
       "      <td>0.0003</td>\n",
       "    </tr>\n",
       "    <tr>\n",
       "      <th>13</th>\n",
       "      <td>KOTAK MAHINDRA BANK LIMITED</td>\n",
       "      <td>[17978.0, 18711.0, 12008.0, 11703.0, 18966.0, ...</td>\n",
       "      <td>[32, 26, 24, 29, 30, 24, 29, 37, 34, 26, 24, 2...</td>\n",
       "      <td>55</td>\n",
       "      <td>23627.0</td>\n",
       "      <td>28211</td>\n",
       "      <td>7627.0</td>\n",
       "      <td>0.322809</td>\n",
       "      <td>0.504678</td>\n",
       "      <td>0.0001</td>\n",
       "    </tr>\n",
       "    <tr>\n",
       "      <th>14</th>\n",
       "      <td>HCL TECHNOLOGIES LIMITED</td>\n",
       "      <td>[20000.0, 18608.0, 45000.0, 29193.0, 47368.0, ...</td>\n",
       "      <td>[29, 29, 36, 24, 27, 23, 25, 25, 24, 27, 27, 2...</td>\n",
       "      <td>39</td>\n",
       "      <td>25705.0</td>\n",
       "      <td>13874</td>\n",
       "      <td>10669.0</td>\n",
       "      <td>0.415055</td>\n",
       "      <td>0.561843</td>\n",
       "      <td>0.0002</td>\n",
       "    </tr>\n",
       "    <tr>\n",
       "      <th>15</th>\n",
       "      <td>AXIS BANK LIMITED</td>\n",
       "      <td>[94216.0, 40439.0, 14747.0, 58986.0, 11971.0, ...</td>\n",
       "      <td>[37, 27, 27, 27, 23, 30, 29, 34, 31, 30, 32, 2...</td>\n",
       "      <td>51</td>\n",
       "      <td>21947.0</td>\n",
       "      <td>16068</td>\n",
       "      <td>9692.0</td>\n",
       "      <td>0.441609</td>\n",
       "      <td>0.585086</td>\n",
       "      <td>0.0000</td>\n",
       "    </tr>\n",
       "    <tr>\n",
       "      <th>16</th>\n",
       "      <td>SUTHERLAND</td>\n",
       "      <td>[16982.0, 34602.0, 19080.0, 20868.0, 29057.0, ...</td>\n",
       "      <td>[26, 29, 22, 24, 31, 28, 22, 25, 23, 35, 23, 2...</td>\n",
       "      <td>66</td>\n",
       "      <td>23392.5</td>\n",
       "      <td>9050</td>\n",
       "      <td>5674.5</td>\n",
       "      <td>0.242578</td>\n",
       "      <td>0.377809</td>\n",
       "      <td>0.0018</td>\n",
       "    </tr>\n",
       "    <tr>\n",
       "      <th>17</th>\n",
       "      <td>3\"</td>\n",
       "      <td>[13000.0, 33000.0, 28540.0, 5000.0, 33747.0, 1...</td>\n",
       "      <td>[22, 21, 25, 31, 36, 24, 27, 39, 29, 35, 33]</td>\n",
       "      <td>11</td>\n",
       "      <td>18293.0</td>\n",
       "      <td>9686</td>\n",
       "      <td>6707.0</td>\n",
       "      <td>0.366643</td>\n",
       "      <td>-0.103479</td>\n",
       "      <td>0.7621</td>\n",
       "    </tr>\n",
       "    <tr>\n",
       "      <th>18</th>\n",
       "      <td>INFOSYS</td>\n",
       "      <td>[28422.0, 16595.0, 19310.0, 10000.0, 22964.0, ...</td>\n",
       "      <td>[32, 27, 32, 23, 26, 28, 33, 26, 28, 29, 27, 3...</td>\n",
       "      <td>57</td>\n",
       "      <td>27264.0</td>\n",
       "      <td>64113</td>\n",
       "      <td>7951.0</td>\n",
       "      <td>0.291630</td>\n",
       "      <td>0.151862</td>\n",
       "      <td>0.2595</td>\n",
       "    </tr>\n",
       "    <tr>\n",
       "      <th>19</th>\n",
       "      <td>IDEA CELLUAR</td>\n",
       "      <td>[20876.0, 20876.0, 15345.0, 36319.0, 21133.0, ...</td>\n",
       "      <td>[29, 29, 28, 34, 28, 32, 27, 27, 29, 35, 30, 3...</td>\n",
       "      <td>21</td>\n",
       "      <td>20500.0</td>\n",
       "      <td>11081</td>\n",
       "      <td>3358.0</td>\n",
       "      <td>0.163805</td>\n",
       "      <td>0.295601</td>\n",
       "      <td>0.1933</td>\n",
       "    </tr>\n",
       "    <tr>\n",
       "      <th>20</th>\n",
       "      <td>RELIANCE COMMUNICATIONS LIMITED</td>\n",
       "      <td>[31356.0, 18000.0, 20047.0, 50000.0, 36405.0, ...</td>\n",
       "      <td>[29, 30, 26, 35, 30, 49, 31, 23, 27, 28, 27, 3...</td>\n",
       "      <td>14</td>\n",
       "      <td>25701.5</td>\n",
       "      <td>54874</td>\n",
       "      <td>10702.5</td>\n",
       "      <td>0.416415</td>\n",
       "      <td>0.873728</td>\n",
       "      <td>0.0000</td>\n",
       "    </tr>\n",
       "    <tr>\n",
       "      <th>21</th>\n",
       "      <td>YES BANK LIMITED</td>\n",
       "      <td>[16621.0, 63405.0, 46358.0, 19243.0, 20731.0, ...</td>\n",
       "      <td>[27, 36, 25, 26, 24, 31, 22, 25, 28, 25, 32, 2...</td>\n",
       "      <td>23</td>\n",
       "      <td>27698.0</td>\n",
       "      <td>11998</td>\n",
       "      <td>6967.0</td>\n",
       "      <td>0.251534</td>\n",
       "      <td>0.621860</td>\n",
       "      <td>0.0015</td>\n",
       "    </tr>\n",
       "    <tr>\n",
       "      <th>22</th>\n",
       "      <td>IIFL</td>\n",
       "      <td>[15300.0, 25717.0, 17000.0, 24926.0, 25557.0, ...</td>\n",
       "      <td>[28.0, 33.0, 30.0, 31.0, 35.0, 31.0, 29.0, 31....</td>\n",
       "      <td>53</td>\n",
       "      <td>21307.0</td>\n",
       "      <td>46055</td>\n",
       "      <td>5609.0</td>\n",
       "      <td>0.263247</td>\n",
       "      <td>0.307648</td>\n",
       "      <td>0.0250</td>\n",
       "    </tr>\n",
       "    <tr>\n",
       "      <th>23</th>\n",
       "      <td>MAHINDRA &amp; MAHINDRA LIMITED</td>\n",
       "      <td>[25000.0, 39187.0, 61606.0, 29146.0, 45000.0, ...</td>\n",
       "      <td>[32, 25, 29, 23, 30, 34, 28, 25, 30, 25, 30, 3...</td>\n",
       "      <td>14</td>\n",
       "      <td>22500.0</td>\n",
       "      <td>14596</td>\n",
       "      <td>6358.5</td>\n",
       "      <td>0.282600</td>\n",
       "      <td>0.022881</td>\n",
       "      <td>0.9381</td>\n",
       "    </tr>\n",
       "    <tr>\n",
       "      <th>24</th>\n",
       "      <td>HINDUJA GLOBAL</td>\n",
       "      <td>[15954.0, 15224.0, 9175.0, 8941.0, 34954.0, 40...</td>\n",
       "      <td>[25, 25, 24, 23, 30, 29, 43, 25, 37, 24, 30, 3...</td>\n",
       "      <td>28</td>\n",
       "      <td>18236.0</td>\n",
       "      <td>8170</td>\n",
       "      <td>3470.0</td>\n",
       "      <td>0.190283</td>\n",
       "      <td>0.645092</td>\n",
       "      <td>0.0002</td>\n",
       "    </tr>\n",
       "    <tr>\n",
       "      <th>25</th>\n",
       "      <td>AANCHAL ISPAT LTD</td>\n",
       "      <td>[]</td>\n",
       "      <td>[]</td>\n",
       "      <td>0</td>\n",
       "      <td>0.0</td>\n",
       "      <td>0</td>\n",
       "      <td>NaN</td>\n",
       "      <td>NaN</td>\n",
       "      <td>NaN</td>\n",
       "      <td>NaN</td>\n",
       "    </tr>\n",
       "    <tr>\n",
       "      <th>26</th>\n",
       "      <td>AEGIS LOGISTICS</td>\n",
       "      <td>[21211.0, 17324.0, 23123.0, 33878.0, 21716.0, ...</td>\n",
       "      <td>[22, 28, 27, 30, 27, 28, 23, 28, 23, 22, 30, 25]</td>\n",
       "      <td>12</td>\n",
       "      <td>20238.0</td>\n",
       "      <td>5960</td>\n",
       "      <td>2889.0</td>\n",
       "      <td>0.142751</td>\n",
       "      <td>0.523431</td>\n",
       "      <td>0.0807</td>\n",
       "    </tr>\n",
       "    <tr>\n",
       "      <th>27</th>\n",
       "      <td>MOBILE TELECOM</td>\n",
       "      <td>[]</td>\n",
       "      <td>[]</td>\n",
       "      <td>0</td>\n",
       "      <td>0.0</td>\n",
       "      <td>0</td>\n",
       "      <td>NaN</td>\n",
       "      <td>NaN</td>\n",
       "      <td>NaN</td>\n",
       "      <td>NaN</td>\n",
       "    </tr>\n",
       "    <tr>\n",
       "      <th>28</th>\n",
       "      <td>JUST DIAL LTD</td>\n",
       "      <td>[25058.0, 20000.0, 21003.0, 17000.0, 27440.0, ...</td>\n",
       "      <td>[27, 26, 31, 30, 26, 26, 32, 28, 24, 27, 22, 3...</td>\n",
       "      <td>24</td>\n",
       "      <td>21405.0</td>\n",
       "      <td>5662</td>\n",
       "      <td>4400.0</td>\n",
       "      <td>0.205559</td>\n",
       "      <td>0.257328</td>\n",
       "      <td>0.2248</td>\n",
       "    </tr>\n",
       "    <tr>\n",
       "      <th>29</th>\n",
       "      <td>AAREY DRUGS &amp; PHARMA</td>\n",
       "      <td>[]</td>\n",
       "      <td>[]</td>\n",
       "      <td>0</td>\n",
       "      <td>0.0</td>\n",
       "      <td>0</td>\n",
       "      <td>NaN</td>\n",
       "      <td>NaN</td>\n",
       "      <td>NaN</td>\n",
       "      <td>NaN</td>\n",
       "    </tr>\n",
       "    <tr>\n",
       "      <th>...</th>\n",
       "      <td>...</td>\n",
       "      <td>...</td>\n",
       "      <td>...</td>\n",
       "      <td>...</td>\n",
       "      <td>...</td>\n",
       "      <td>...</td>\n",
       "      <td>...</td>\n",
       "      <td>...</td>\n",
       "      <td>...</td>\n",
       "      <td>...</td>\n",
       "    </tr>\n",
       "    <tr>\n",
       "      <th>470</th>\n",
       "      <td>UNITECH LIMITED</td>\n",
       "      <td>[]</td>\n",
       "      <td>[]</td>\n",
       "      <td>0</td>\n",
       "      <td>0.0</td>\n",
       "      <td>0</td>\n",
       "      <td>NaN</td>\n",
       "      <td>NaN</td>\n",
       "      <td>NaN</td>\n",
       "      <td>NaN</td>\n",
       "    </tr>\n",
       "    <tr>\n",
       "      <th>471</th>\n",
       "      <td>RATTANINDIA POWER LIMITED</td>\n",
       "      <td>[]</td>\n",
       "      <td>[]</td>\n",
       "      <td>0</td>\n",
       "      <td>0.0</td>\n",
       "      <td>0</td>\n",
       "      <td>NaN</td>\n",
       "      <td>NaN</td>\n",
       "      <td>NaN</td>\n",
       "      <td>NaN</td>\n",
       "    </tr>\n",
       "    <tr>\n",
       "      <th>472</th>\n",
       "      <td>LAKSHMI ELECTRICAL CONTROL SYSTEMS</td>\n",
       "      <td>[]</td>\n",
       "      <td>[]</td>\n",
       "      <td>0</td>\n",
       "      <td>0.0</td>\n",
       "      <td>0</td>\n",
       "      <td>NaN</td>\n",
       "      <td>NaN</td>\n",
       "      <td>NaN</td>\n",
       "      <td>NaN</td>\n",
       "    </tr>\n",
       "    <tr>\n",
       "      <th>473</th>\n",
       "      <td>GLAXOSMITHKLINE CONSUMER HEALTHCARE LIMITED</td>\n",
       "      <td>[]</td>\n",
       "      <td>[]</td>\n",
       "      <td>0</td>\n",
       "      <td>0.0</td>\n",
       "      <td>0</td>\n",
       "      <td>NaN</td>\n",
       "      <td>NaN</td>\n",
       "      <td>NaN</td>\n",
       "      <td>NaN</td>\n",
       "    </tr>\n",
       "    <tr>\n",
       "      <th>474</th>\n",
       "      <td>NAHAR SPINNING</td>\n",
       "      <td>[]</td>\n",
       "      <td>[]</td>\n",
       "      <td>0</td>\n",
       "      <td>0.0</td>\n",
       "      <td>0</td>\n",
       "      <td>NaN</td>\n",
       "      <td>NaN</td>\n",
       "      <td>NaN</td>\n",
       "      <td>NaN</td>\n",
       "    </tr>\n",
       "    <tr>\n",
       "      <th>475</th>\n",
       "      <td>PATEL INTERNATIONAL LOGISTICS</td>\n",
       "      <td>[]</td>\n",
       "      <td>[]</td>\n",
       "      <td>0</td>\n",
       "      <td>0.0</td>\n",
       "      <td>0</td>\n",
       "      <td>NaN</td>\n",
       "      <td>NaN</td>\n",
       "      <td>NaN</td>\n",
       "      <td>NaN</td>\n",
       "    </tr>\n",
       "    <tr>\n",
       "      <th>476</th>\n",
       "      <td>THOMAS COOK  (INDIA)  LIMITED</td>\n",
       "      <td>[55558.0, 29103.0, 46100.0, 15927.0, 27344.0]</td>\n",
       "      <td>[37, 30, 25, 36, 31]</td>\n",
       "      <td>5</td>\n",
       "      <td>29103.0</td>\n",
       "      <td>14162</td>\n",
       "      <td>13176.0</td>\n",
       "      <td>0.452737</td>\n",
       "      <td>-0.103608</td>\n",
       "      <td>0.8683</td>\n",
       "    </tr>\n",
       "    <tr>\n",
       "      <th>477</th>\n",
       "      <td>AMRAPALI INDS</td>\n",
       "      <td>[]</td>\n",
       "      <td>[]</td>\n",
       "      <td>0</td>\n",
       "      <td>0.0</td>\n",
       "      <td>0</td>\n",
       "      <td>NaN</td>\n",
       "      <td>NaN</td>\n",
       "      <td>NaN</td>\n",
       "      <td>NaN</td>\n",
       "    </tr>\n",
       "    <tr>\n",
       "      <th>478</th>\n",
       "      <td>NANDAN DENIM LTD</td>\n",
       "      <td>[]</td>\n",
       "      <td>[]</td>\n",
       "      <td>0</td>\n",
       "      <td>0.0</td>\n",
       "      <td>0</td>\n",
       "      <td>NaN</td>\n",
       "      <td>NaN</td>\n",
       "      <td>NaN</td>\n",
       "      <td>NaN</td>\n",
       "    </tr>\n",
       "    <tr>\n",
       "      <th>479</th>\n",
       "      <td>KEWAL KIRAN CLOTHING LIMITED</td>\n",
       "      <td>[]</td>\n",
       "      <td>[]</td>\n",
       "      <td>0</td>\n",
       "      <td>0.0</td>\n",
       "      <td>0</td>\n",
       "      <td>NaN</td>\n",
       "      <td>NaN</td>\n",
       "      <td>NaN</td>\n",
       "      <td>NaN</td>\n",
       "    </tr>\n",
       "    <tr>\n",
       "      <th>480</th>\n",
       "      <td>SML ISUZU LTD</td>\n",
       "      <td>[]</td>\n",
       "      <td>[]</td>\n",
       "      <td>0</td>\n",
       "      <td>0.0</td>\n",
       "      <td>0</td>\n",
       "      <td>NaN</td>\n",
       "      <td>NaN</td>\n",
       "      <td>NaN</td>\n",
       "      <td>NaN</td>\n",
       "    </tr>\n",
       "    <tr>\n",
       "      <th>481</th>\n",
       "      <td>TCPL PACKAGING L</td>\n",
       "      <td>[]</td>\n",
       "      <td>[]</td>\n",
       "      <td>0</td>\n",
       "      <td>0.0</td>\n",
       "      <td>0</td>\n",
       "      <td>NaN</td>\n",
       "      <td>NaN</td>\n",
       "      <td>NaN</td>\n",
       "      <td>NaN</td>\n",
       "    </tr>\n",
       "    <tr>\n",
       "      <th>482</th>\n",
       "      <td>REDINGTON (INDIA) LIMITED</td>\n",
       "      <td>[]</td>\n",
       "      <td>[]</td>\n",
       "      <td>0</td>\n",
       "      <td>0.0</td>\n",
       "      <td>0</td>\n",
       "      <td>NaN</td>\n",
       "      <td>NaN</td>\n",
       "      <td>NaN</td>\n",
       "      <td>NaN</td>\n",
       "    </tr>\n",
       "    <tr>\n",
       "      <th>483</th>\n",
       "      <td>SHARDA MOTOR INDUSTRIES</td>\n",
       "      <td>[]</td>\n",
       "      <td>[]</td>\n",
       "      <td>0</td>\n",
       "      <td>0.0</td>\n",
       "      <td>0</td>\n",
       "      <td>NaN</td>\n",
       "      <td>NaN</td>\n",
       "      <td>NaN</td>\n",
       "      <td>NaN</td>\n",
       "    </tr>\n",
       "    <tr>\n",
       "      <th>484</th>\n",
       "      <td>INDO-NATIONAL LTD</td>\n",
       "      <td>[]</td>\n",
       "      <td>[]</td>\n",
       "      <td>0</td>\n",
       "      <td>0.0</td>\n",
       "      <td>0</td>\n",
       "      <td>NaN</td>\n",
       "      <td>NaN</td>\n",
       "      <td>NaN</td>\n",
       "      <td>NaN</td>\n",
       "    </tr>\n",
       "    <tr>\n",
       "      <th>485</th>\n",
       "      <td>RUPA &amp; COMPANY LIMITED</td>\n",
       "      <td>[]</td>\n",
       "      <td>[]</td>\n",
       "      <td>0</td>\n",
       "      <td>0.0</td>\n",
       "      <td>0</td>\n",
       "      <td>NaN</td>\n",
       "      <td>NaN</td>\n",
       "      <td>NaN</td>\n",
       "      <td>NaN</td>\n",
       "    </tr>\n",
       "    <tr>\n",
       "      <th>486</th>\n",
       "      <td>POWERMECH PROJECTS</td>\n",
       "      <td>[]</td>\n",
       "      <td>[]</td>\n",
       "      <td>0</td>\n",
       "      <td>0.0</td>\n",
       "      <td>0</td>\n",
       "      <td>NaN</td>\n",
       "      <td>NaN</td>\n",
       "      <td>NaN</td>\n",
       "      <td>NaN</td>\n",
       "    </tr>\n",
       "    <tr>\n",
       "      <th>487</th>\n",
       "      <td>NETWORK18 MEDIA &amp; INVESTMENTS LIMITED</td>\n",
       "      <td>[]</td>\n",
       "      <td>[]</td>\n",
       "      <td>0</td>\n",
       "      <td>0.0</td>\n",
       "      <td>0</td>\n",
       "      <td>NaN</td>\n",
       "      <td>NaN</td>\n",
       "      <td>NaN</td>\n",
       "      <td>NaN</td>\n",
       "    </tr>\n",
       "    <tr>\n",
       "      <th>488</th>\n",
       "      <td>CAMLIN FINE SCIENCE</td>\n",
       "      <td>[]</td>\n",
       "      <td>[]</td>\n",
       "      <td>0</td>\n",
       "      <td>0.0</td>\n",
       "      <td>0</td>\n",
       "      <td>NaN</td>\n",
       "      <td>NaN</td>\n",
       "      <td>NaN</td>\n",
       "      <td>NaN</td>\n",
       "    </tr>\n",
       "    <tr>\n",
       "      <th>489</th>\n",
       "      <td>GUJARAT NARMADA VALLEY FERTILIZERS AND CHEMICA...</td>\n",
       "      <td>[]</td>\n",
       "      <td>[]</td>\n",
       "      <td>0</td>\n",
       "      <td>0.0</td>\n",
       "      <td>0</td>\n",
       "      <td>NaN</td>\n",
       "      <td>NaN</td>\n",
       "      <td>NaN</td>\n",
       "      <td>NaN</td>\n",
       "    </tr>\n",
       "    <tr>\n",
       "      <th>490</th>\n",
       "      <td>TOURISM FIN CORP</td>\n",
       "      <td>[]</td>\n",
       "      <td>[]</td>\n",
       "      <td>0</td>\n",
       "      <td>0.0</td>\n",
       "      <td>0</td>\n",
       "      <td>NaN</td>\n",
       "      <td>NaN</td>\n",
       "      <td>NaN</td>\n",
       "      <td>NaN</td>\n",
       "    </tr>\n",
       "    <tr>\n",
       "      <th>491</th>\n",
       "      <td>MAGNA ELECTRO CASTINGS</td>\n",
       "      <td>[]</td>\n",
       "      <td>[]</td>\n",
       "      <td>0</td>\n",
       "      <td>0.0</td>\n",
       "      <td>0</td>\n",
       "      <td>NaN</td>\n",
       "      <td>NaN</td>\n",
       "      <td>NaN</td>\n",
       "      <td>NaN</td>\n",
       "    </tr>\n",
       "    <tr>\n",
       "      <th>492</th>\n",
       "      <td>GHCL LTD</td>\n",
       "      <td>[]</td>\n",
       "      <td>[]</td>\n",
       "      <td>0</td>\n",
       "      <td>0.0</td>\n",
       "      <td>0</td>\n",
       "      <td>NaN</td>\n",
       "      <td>NaN</td>\n",
       "      <td>NaN</td>\n",
       "      <td>NaN</td>\n",
       "    </tr>\n",
       "    <tr>\n",
       "      <th>493</th>\n",
       "      <td>BHARTIYA INTERNATIONAL</td>\n",
       "      <td>[]</td>\n",
       "      <td>[]</td>\n",
       "      <td>0</td>\n",
       "      <td>0.0</td>\n",
       "      <td>0</td>\n",
       "      <td>NaN</td>\n",
       "      <td>NaN</td>\n",
       "      <td>NaN</td>\n",
       "      <td>NaN</td>\n",
       "    </tr>\n",
       "    <tr>\n",
       "      <th>494</th>\n",
       "      <td>PRESTIGE ESTATES PROJECTS LIMITED</td>\n",
       "      <td>[]</td>\n",
       "      <td>[]</td>\n",
       "      <td>0</td>\n",
       "      <td>0.0</td>\n",
       "      <td>0</td>\n",
       "      <td>NaN</td>\n",
       "      <td>NaN</td>\n",
       "      <td>NaN</td>\n",
       "      <td>NaN</td>\n",
       "    </tr>\n",
       "    <tr>\n",
       "      <th>495</th>\n",
       "      <td>MCLEOD RUSSEL INDIA LIMITED</td>\n",
       "      <td>[]</td>\n",
       "      <td>[]</td>\n",
       "      <td>0</td>\n",
       "      <td>0.0</td>\n",
       "      <td>0</td>\n",
       "      <td>NaN</td>\n",
       "      <td>NaN</td>\n",
       "      <td>NaN</td>\n",
       "      <td>NaN</td>\n",
       "    </tr>\n",
       "    <tr>\n",
       "      <th>496</th>\n",
       "      <td>RENAISSANCE JEWEllery LIMITED</td>\n",
       "      <td>[]</td>\n",
       "      <td>[]</td>\n",
       "      <td>0</td>\n",
       "      <td>0.0</td>\n",
       "      <td>0</td>\n",
       "      <td>NaN</td>\n",
       "      <td>NaN</td>\n",
       "      <td>NaN</td>\n",
       "      <td>NaN</td>\n",
       "    </tr>\n",
       "    <tr>\n",
       "      <th>497</th>\n",
       "      <td>SUN PHARMA ADVANCED RESEARCH COMPANY LIMITED</td>\n",
       "      <td>[]</td>\n",
       "      <td>[]</td>\n",
       "      <td>0</td>\n",
       "      <td>0.0</td>\n",
       "      <td>0</td>\n",
       "      <td>NaN</td>\n",
       "      <td>NaN</td>\n",
       "      <td>NaN</td>\n",
       "      <td>NaN</td>\n",
       "    </tr>\n",
       "    <tr>\n",
       "      <th>498</th>\n",
       "      <td>JAYASWAL NECO INDUSTRIES</td>\n",
       "      <td>[]</td>\n",
       "      <td>[]</td>\n",
       "      <td>0</td>\n",
       "      <td>0.0</td>\n",
       "      <td>0</td>\n",
       "      <td>NaN</td>\n",
       "      <td>NaN</td>\n",
       "      <td>NaN</td>\n",
       "      <td>NaN</td>\n",
       "    </tr>\n",
       "    <tr>\n",
       "      <th>499</th>\n",
       "      <td>PRAJ INDUSTRIES LIMITED</td>\n",
       "      <td>[]</td>\n",
       "      <td>[]</td>\n",
       "      <td>0</td>\n",
       "      <td>0.0</td>\n",
       "      <td>0</td>\n",
       "      <td>NaN</td>\n",
       "      <td>NaN</td>\n",
       "      <td>NaN</td>\n",
       "      <td>NaN</td>\n",
       "    </tr>\n",
       "  </tbody>\n",
       "</table>\n",
       "<p>500 rows × 10 columns</p>\n",
       "</div>"
      ],
      "text/plain": [
       "                                              employer  \\\n",
       "0                    TATA CONSULTANCY SERVICES LIMITED   \n",
       "1                                           TEAM LEASE   \n",
       "2                                        WIPRO LIMITED   \n",
       "3                                     3M INDIA LIMITED   \n",
       "4                                         RELIANCE JIO   \n",
       "5                                BHARTI AIRTEL LIMITED   \n",
       "6                                   ICICI BANK LIMITED   \n",
       "7                                     GEBBS HEALTHCARE   \n",
       "8                                    HDFC BANK LIMITED   \n",
       "9                                                  IBM   \n",
       "10                                       TECH MAHINDRA   \n",
       "11                                           CONVERGYS   \n",
       "12                               INDUSIND BANK LIMITED   \n",
       "13                         KOTAK MAHINDRA BANK LIMITED   \n",
       "14                            HCL TECHNOLOGIES LIMITED   \n",
       "15                                   AXIS BANK LIMITED   \n",
       "16                                          SUTHERLAND   \n",
       "17                                                  3\"   \n",
       "18                                             INFOSYS   \n",
       "19                                        IDEA CELLUAR   \n",
       "20                     RELIANCE COMMUNICATIONS LIMITED   \n",
       "21                                    YES BANK LIMITED   \n",
       "22                                                IIFL   \n",
       "23                         MAHINDRA & MAHINDRA LIMITED   \n",
       "24                                      HINDUJA GLOBAL   \n",
       "25                                   AANCHAL ISPAT LTD   \n",
       "26                                     AEGIS LOGISTICS   \n",
       "27                                      MOBILE TELECOM   \n",
       "28                                       JUST DIAL LTD   \n",
       "29                                AAREY DRUGS & PHARMA   \n",
       "..                                                 ...   \n",
       "470                                    UNITECH LIMITED   \n",
       "471                          RATTANINDIA POWER LIMITED   \n",
       "472                 LAKSHMI ELECTRICAL CONTROL SYSTEMS   \n",
       "473        GLAXOSMITHKLINE CONSUMER HEALTHCARE LIMITED   \n",
       "474                                     NAHAR SPINNING   \n",
       "475                      PATEL INTERNATIONAL LOGISTICS   \n",
       "476                      THOMAS COOK  (INDIA)  LIMITED   \n",
       "477                                      AMRAPALI INDS   \n",
       "478                                   NANDAN DENIM LTD   \n",
       "479                       KEWAL KIRAN CLOTHING LIMITED   \n",
       "480                                      SML ISUZU LTD   \n",
       "481                                   TCPL PACKAGING L   \n",
       "482                          REDINGTON (INDIA) LIMITED   \n",
       "483                            SHARDA MOTOR INDUSTRIES   \n",
       "484                                  INDO-NATIONAL LTD   \n",
       "485                             RUPA & COMPANY LIMITED   \n",
       "486                                 POWERMECH PROJECTS   \n",
       "487              NETWORK18 MEDIA & INVESTMENTS LIMITED   \n",
       "488                                CAMLIN FINE SCIENCE   \n",
       "489  GUJARAT NARMADA VALLEY FERTILIZERS AND CHEMICA...   \n",
       "490                                   TOURISM FIN CORP   \n",
       "491                             MAGNA ELECTRO CASTINGS   \n",
       "492                                           GHCL LTD   \n",
       "493                             BHARTIYA INTERNATIONAL   \n",
       "494                  PRESTIGE ESTATES PROJECTS LIMITED   \n",
       "495                        MCLEOD RUSSEL INDIA LIMITED   \n",
       "496                      RENAISSANCE JEWEllery LIMITED   \n",
       "497       SUN PHARMA ADVANCED RESEARCH COMPANY LIMITED   \n",
       "498                           JAYASWAL NECO INDUSTRIES   \n",
       "499                            PRAJ INDUSTRIES LIMITED   \n",
       "\n",
       "                                               incomes  \\\n",
       "0    [32741.0, 35000.0, 45590.0, 120000.0, 25800.0,...   \n",
       "1    [27513.0, 12610.0, 22190.0, 17440.0, 12441.0, ...   \n",
       "2    [14613.0, 30991.0, 29970.0, 18355.0, 21440.0, ...   \n",
       "3    [20000.0, 28000.0, 11750.0, 21897.0, 25000.0, ...   \n",
       "4    [16413.0, 20246.0, 17036.0, 15297.0, 15904.0, ...   \n",
       "5    [15038.0, 15000.0, 84323.0, 15389.0, 19140.0, ...   \n",
       "6    [23764.0, 18524.0, 17227.0, 39196.0, 21495.0, ...   \n",
       "7    [15297.0, 127400.0, 53719.0, 31060.0, 43390.0,...   \n",
       "8    [13963.0, 54145.0, 14700.0, 37609.0, 39500.0, ...   \n",
       "9    [53636.0, 65874.0, 84800.0, 49867.0, 35200.0, ...   \n",
       "10   [33766.0, 36913.0, 30120.0, 28709.0, 31640.0, ...   \n",
       "11   [25528.0, 32082.0, 24631.0, 40236.0, 27500.0, ...   \n",
       "12   [28000.0, 17500.0, 20039.0, 22262.0, 27568.0, ...   \n",
       "13   [17978.0, 18711.0, 12008.0, 11703.0, 18966.0, ...   \n",
       "14   [20000.0, 18608.0, 45000.0, 29193.0, 47368.0, ...   \n",
       "15   [94216.0, 40439.0, 14747.0, 58986.0, 11971.0, ...   \n",
       "16   [16982.0, 34602.0, 19080.0, 20868.0, 29057.0, ...   \n",
       "17   [13000.0, 33000.0, 28540.0, 5000.0, 33747.0, 1...   \n",
       "18   [28422.0, 16595.0, 19310.0, 10000.0, 22964.0, ...   \n",
       "19   [20876.0, 20876.0, 15345.0, 36319.0, 21133.0, ...   \n",
       "20   [31356.0, 18000.0, 20047.0, 50000.0, 36405.0, ...   \n",
       "21   [16621.0, 63405.0, 46358.0, 19243.0, 20731.0, ...   \n",
       "22   [15300.0, 25717.0, 17000.0, 24926.0, 25557.0, ...   \n",
       "23   [25000.0, 39187.0, 61606.0, 29146.0, 45000.0, ...   \n",
       "24   [15954.0, 15224.0, 9175.0, 8941.0, 34954.0, 40...   \n",
       "25                                                  []   \n",
       "26   [21211.0, 17324.0, 23123.0, 33878.0, 21716.0, ...   \n",
       "27                                                  []   \n",
       "28   [25058.0, 20000.0, 21003.0, 17000.0, 27440.0, ...   \n",
       "29                                                  []   \n",
       "..                                                 ...   \n",
       "470                                                 []   \n",
       "471                                                 []   \n",
       "472                                                 []   \n",
       "473                                                 []   \n",
       "474                                                 []   \n",
       "475                                                 []   \n",
       "476      [55558.0, 29103.0, 46100.0, 15927.0, 27344.0]   \n",
       "477                                                 []   \n",
       "478                                                 []   \n",
       "479                                                 []   \n",
       "480                                                 []   \n",
       "481                                                 []   \n",
       "482                                                 []   \n",
       "483                                                 []   \n",
       "484                                                 []   \n",
       "485                                                 []   \n",
       "486                                                 []   \n",
       "487                                                 []   \n",
       "488                                                 []   \n",
       "489                                                 []   \n",
       "490                                                 []   \n",
       "491                                                 []   \n",
       "492                                                 []   \n",
       "493                                                 []   \n",
       "494                                                 []   \n",
       "495                                                 []   \n",
       "496                                                 []   \n",
       "497                                                 []   \n",
       "498                                                 []   \n",
       "499                                                 []   \n",
       "\n",
       "                                                  ages  \\\n",
       "0    [28, 28, 33, 51, 26, 24, 29, 28, 31, 26, 30, 3...   \n",
       "1    [29, 27, 28, 26, 27, 29, 34, 41, 37, 23, 30, 2...   \n",
       "2    [25, 29, 25, 32, 28, 28, 23, 25, 32, 24, 29, 3...   \n",
       "3    [25, 39, 29, 27, 21, 26, 27, 32, 42, 32, 36, 3...   \n",
       "4    [23, 27, 30, 21, 29, 26, 34, 30, 25, 32, 34, 2...   \n",
       "5    [26, 27, 28, 24, 27, 28, 35, 27, 29, 24, 31, 3...   \n",
       "6    [30.0, 29.0, 24.0, 31.0, 29.0, 31.0, 26.0, 29....   \n",
       "7    [35, 40, 24, 30, 32, 25, 25, 26, 36, 26, 28, 2...   \n",
       "8    [23, 34, 21, 26, 27, 38, 26, 35, 26, 31, 26, 2...   \n",
       "9    [33, 30, 27, 30, 27, 26, 37, 25, 33, 29, 38, 2...   \n",
       "10   [29, 34, 27, 25, 25, 29, 21, 29, 30, 28, 31, 3...   \n",
       "11   [26, 42, 31, 27, 28, 24, 22, 26, 29, 28, 27, 2...   \n",
       "12   [26, 31, 26, 23, 27, 33, 26, 27, 41, 31, 23, 3...   \n",
       "13   [32, 26, 24, 29, 30, 24, 29, 37, 34, 26, 24, 2...   \n",
       "14   [29, 29, 36, 24, 27, 23, 25, 25, 24, 27, 27, 2...   \n",
       "15   [37, 27, 27, 27, 23, 30, 29, 34, 31, 30, 32, 2...   \n",
       "16   [26, 29, 22, 24, 31, 28, 22, 25, 23, 35, 23, 2...   \n",
       "17        [22, 21, 25, 31, 36, 24, 27, 39, 29, 35, 33]   \n",
       "18   [32, 27, 32, 23, 26, 28, 33, 26, 28, 29, 27, 3...   \n",
       "19   [29, 29, 28, 34, 28, 32, 27, 27, 29, 35, 30, 3...   \n",
       "20   [29, 30, 26, 35, 30, 49, 31, 23, 27, 28, 27, 3...   \n",
       "21   [27, 36, 25, 26, 24, 31, 22, 25, 28, 25, 32, 2...   \n",
       "22   [28.0, 33.0, 30.0, 31.0, 35.0, 31.0, 29.0, 31....   \n",
       "23   [32, 25, 29, 23, 30, 34, 28, 25, 30, 25, 30, 3...   \n",
       "24   [25, 25, 24, 23, 30, 29, 43, 25, 37, 24, 30, 3...   \n",
       "25                                                  []   \n",
       "26    [22, 28, 27, 30, 27, 28, 23, 28, 23, 22, 30, 25]   \n",
       "27                                                  []   \n",
       "28   [27, 26, 31, 30, 26, 26, 32, 28, 24, 27, 22, 3...   \n",
       "29                                                  []   \n",
       "..                                                 ...   \n",
       "470                                                 []   \n",
       "471                                                 []   \n",
       "472                                                 []   \n",
       "473                                                 []   \n",
       "474                                                 []   \n",
       "475                                                 []   \n",
       "476                               [37, 30, 25, 36, 31]   \n",
       "477                                                 []   \n",
       "478                                                 []   \n",
       "479                                                 []   \n",
       "480                                                 []   \n",
       "481                                                 []   \n",
       "482                                                 []   \n",
       "483                                                 []   \n",
       "484                                                 []   \n",
       "485                                                 []   \n",
       "486                                                 []   \n",
       "487                                                 []   \n",
       "488                                                 []   \n",
       "489                                                 []   \n",
       "490                                                 []   \n",
       "491                                                 []   \n",
       "492                                                 []   \n",
       "493                                                 []   \n",
       "494                                                 []   \n",
       "495                                                 []   \n",
       "496                                                 []   \n",
       "497                                                 []   \n",
       "498                                                 []   \n",
       "499                                                 []   \n",
       "\n",
       "     number_of_income_cases  median_income  standard_deviation  \\\n",
       "0                       161        31109.0               14914   \n",
       "1                        76        19096.5               10766   \n",
       "2                       128        21434.0               19701   \n",
       "3                        15        21897.0               11660   \n",
       "4                        45        17089.0               14900   \n",
       "5                        42        21230.5               16832   \n",
       "6                        87        24482.0               18015   \n",
       "7                        60        22917.0               18965   \n",
       "8                        63        24000.0               13995   \n",
       "9                        71        33666.0               20393   \n",
       "10                      251        31114.0                9056   \n",
       "11                       70        23785.5               10563   \n",
       "12                       42        21360.0               18813   \n",
       "13                       55        23627.0               28211   \n",
       "14                       39        25705.0               13874   \n",
       "15                       51        21947.0               16068   \n",
       "16                       66        23392.5                9050   \n",
       "17                       11        18293.0                9686   \n",
       "18                       57        27264.0               64113   \n",
       "19                       21        20500.0               11081   \n",
       "20                       14        25701.5               54874   \n",
       "21                       23        27698.0               11998   \n",
       "22                       53        21307.0               46055   \n",
       "23                       14        22500.0               14596   \n",
       "24                       28        18236.0                8170   \n",
       "25                        0            0.0                   0   \n",
       "26                       12        20238.0                5960   \n",
       "27                        0            0.0                   0   \n",
       "28                       24        21405.0                5662   \n",
       "29                        0            0.0                   0   \n",
       "..                      ...            ...                 ...   \n",
       "470                       0            0.0                   0   \n",
       "471                       0            0.0                   0   \n",
       "472                       0            0.0                   0   \n",
       "473                       0            0.0                   0   \n",
       "474                       0            0.0                   0   \n",
       "475                       0            0.0                   0   \n",
       "476                       5        29103.0               14162   \n",
       "477                       0            0.0                   0   \n",
       "478                       0            0.0                   0   \n",
       "479                       0            0.0                   0   \n",
       "480                       0            0.0                   0   \n",
       "481                       0            0.0                   0   \n",
       "482                       0            0.0                   0   \n",
       "483                       0            0.0                   0   \n",
       "484                       0            0.0                   0   \n",
       "485                       0            0.0                   0   \n",
       "486                       0            0.0                   0   \n",
       "487                       0            0.0                   0   \n",
       "488                       0            0.0                   0   \n",
       "489                       0            0.0                   0   \n",
       "490                       0            0.0                   0   \n",
       "491                       0            0.0                   0   \n",
       "492                       0            0.0                   0   \n",
       "493                       0            0.0                   0   \n",
       "494                       0            0.0                   0   \n",
       "495                       0            0.0                   0   \n",
       "496                       0            0.0                   0   \n",
       "497                       0            0.0                   0   \n",
       "498                       0            0.0                   0   \n",
       "499                       0            0.0                   0   \n",
       "\n",
       "     median_absolute_deviation  deviation_factor  income_age_corr  p-value  \n",
       "0                       6827.0          0.219454         0.613343   0.0000  \n",
       "1                       2975.0          0.155788         0.166639   0.1502  \n",
       "2                       6650.0          0.310255         0.464249   0.0000  \n",
       "3                       3186.0          0.145499         0.324490   0.2380  \n",
       "4                       2494.0          0.145942         0.098599   0.5193  \n",
       "5                       5480.5          0.258143         0.402840   0.0082  \n",
       "6                       9311.0          0.380320         0.375850   0.0003  \n",
       "7                       7576.5          0.330606         0.486987   0.0001  \n",
       "8                       8129.0          0.338708         0.466021   0.0001  \n",
       "9                      13188.0          0.391731         0.510228   0.0000  \n",
       "10                      4289.0          0.137848         0.418762   0.0000  \n",
       "11                      4188.0          0.176074         0.338364   0.0042  \n",
       "12                      5160.0          0.241573         0.529338   0.0003  \n",
       "13                      7627.0          0.322809         0.504678   0.0001  \n",
       "14                     10669.0          0.415055         0.561843   0.0002  \n",
       "15                      9692.0          0.441609         0.585086   0.0000  \n",
       "16                      5674.5          0.242578         0.377809   0.0018  \n",
       "17                      6707.0          0.366643        -0.103479   0.7621  \n",
       "18                      7951.0          0.291630         0.151862   0.2595  \n",
       "19                      3358.0          0.163805         0.295601   0.1933  \n",
       "20                     10702.5          0.416415         0.873728   0.0000  \n",
       "21                      6967.0          0.251534         0.621860   0.0015  \n",
       "22                      5609.0          0.263247         0.307648   0.0250  \n",
       "23                      6358.5          0.282600         0.022881   0.9381  \n",
       "24                      3470.0          0.190283         0.645092   0.0002  \n",
       "25                         NaN               NaN              NaN      NaN  \n",
       "26                      2889.0          0.142751         0.523431   0.0807  \n",
       "27                         NaN               NaN              NaN      NaN  \n",
       "28                      4400.0          0.205559         0.257328   0.2248  \n",
       "29                         NaN               NaN              NaN      NaN  \n",
       "..                         ...               ...              ...      ...  \n",
       "470                        NaN               NaN              NaN      NaN  \n",
       "471                        NaN               NaN              NaN      NaN  \n",
       "472                        NaN               NaN              NaN      NaN  \n",
       "473                        NaN               NaN              NaN      NaN  \n",
       "474                        NaN               NaN              NaN      NaN  \n",
       "475                        NaN               NaN              NaN      NaN  \n",
       "476                    13176.0          0.452737        -0.103608   0.8683  \n",
       "477                        NaN               NaN              NaN      NaN  \n",
       "478                        NaN               NaN              NaN      NaN  \n",
       "479                        NaN               NaN              NaN      NaN  \n",
       "480                        NaN               NaN              NaN      NaN  \n",
       "481                        NaN               NaN              NaN      NaN  \n",
       "482                        NaN               NaN              NaN      NaN  \n",
       "483                        NaN               NaN              NaN      NaN  \n",
       "484                        NaN               NaN              NaN      NaN  \n",
       "485                        NaN               NaN              NaN      NaN  \n",
       "486                        NaN               NaN              NaN      NaN  \n",
       "487                        NaN               NaN              NaN      NaN  \n",
       "488                        NaN               NaN              NaN      NaN  \n",
       "489                        NaN               NaN              NaN      NaN  \n",
       "490                        NaN               NaN              NaN      NaN  \n",
       "491                        NaN               NaN              NaN      NaN  \n",
       "492                        NaN               NaN              NaN      NaN  \n",
       "493                        NaN               NaN              NaN      NaN  \n",
       "494                        NaN               NaN              NaN      NaN  \n",
       "495                        NaN               NaN              NaN      NaN  \n",
       "496                        NaN               NaN              NaN      NaN  \n",
       "497                        NaN               NaN              NaN      NaN  \n",
       "498                        NaN               NaN              NaN      NaN  \n",
       "499                        NaN               NaN              NaN      NaN  \n",
       "\n",
       "[500 rows x 10 columns]"
      ]
     },
     "execution_count": 45,
     "metadata": {},
     "output_type": "execute_result"
    }
   ],
   "source": [
    "top_employers"
   ]
  },
  {
   "cell_type": "code",
   "execution_count": null,
   "metadata": {
    "collapsed": true
   },
   "outputs": [],
   "source": []
  }
 ],
 "metadata": {
  "kernelspec": {
   "display_name": "Python 3",
   "language": "python",
   "name": "python3"
  },
  "language_info": {
   "codemirror_mode": {
    "name": "ipython",
    "version": 3
   },
   "file_extension": ".py",
   "mimetype": "text/x-python",
   "name": "python",
   "nbconvert_exporter": "python",
   "pygments_lexer": "ipython3",
   "version": "3.5.2"
  }
 },
 "nbformat": 4,
 "nbformat_minor": 1
}
